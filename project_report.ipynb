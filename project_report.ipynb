{
 "cells": [
  {
   "cell_type": "markdown",
   "metadata": {},
   "source": [
    "### CS/ECE/ISyE 524 &mdash; Introduction to Optimization &mdash; Spring 2023 ###\n",
    "\n",
    "### Final Course Project: Due 5/5/23\n",
    "\n",
    "# Dynasty Fantasy Football Trade Analyzer #\n",
    "\n",
    "#### Luke Neuendorf (lneuendorf@wisc.edu)\n",
    "\n",
    "*****\n",
    "\n",
    "### Table of Contents\n",
    "\n",
    "1. [Introduction](#1.-Introduction)\n",
    "1. [Mathematical Model](#2.-Mathematical-model)\n",
    "1. [Solution](#3.-Solution)\n",
    "1. [Results and Discussion](#4.-Results-and-discussion)\n",
    "  1. [Optional Subsection](#4.A.-Feel-free-to-add-subsections)\n",
    "1. [Conclusion](#5.-Conclusion)"
   ]
  },
  {
   "cell_type": "markdown",
   "metadata": {
    "collapsed": true,
    "jupyter": {
     "outputs_hidden": true
    }
   },
   "source": [
    "## 1. Introduction ##\n",
    "In this project, I created an optimization model to calculate the value of the assets in a dynasty fantasy football trade. The goal is to see which side of the trade contains more value, or which side \"wins\" the trade. I also created a second model to generate a fair trade counteroffer to the user's input offer based on the asset values generated with the first model.\n",
    "\n",
    "In \"regular\" fantasy football, a group of 8-12 people draft teams of NFL offensive players. These teams compete in head-to-head matchups for a period of fourteen weeks. After fourteen weeks, the top teams compete in a three-week playoff tournament, where one team is crowned champion. A fantasy football starting lineup varies depending on the format of the league and can consist of 1-2 quarterbacks, 2 running backs, 2-3 wide receivers, 1 tight end, and 1-2 flex spots. A flex spot can hold a running back, wide receiver, or tight end.\n",
    "\n",
    "Dynasty fantasy football differs from \"regular\" fantasy football in that dynasty managers keep the same players from year to year. Furthermore, dynasty fantasy football has yearly rookie drafts where each team drafts several of that year's NFL rookie players onto their teams. The order of these drafts is decided based on the previous year's standings. Given that teams are left with the same players year after year, trading is vital. Every league member chooses a different strategy. Some dynasty managers build young rosters looking for longevity, while others look to build older rosters full of household names. The purpose of a trade analyzer is to see which team is \"winning\" a potential trade or if a trade is even. Analyzing trade value through the unbiased form of a computer-generated model can take away the bias a player may have towards certain types of players, such as flashy or young players. Over time, it can help a manager's team accrue more value by consistently making trades that are even or that they're projected to \"win.\"\n",
    "\n",
    "The dataset for this project consists of 3,532 trades that happened from April 10 to April 30 in 12-team, two-quarterback dynasty leagues. The dataset was scraped from [fantasycalc.com](https://www.fantasycalc.com/database). The trades consist of two sides, with a maximum of four pieces per side. The pieces consist of NFL offensive players or rookie draft picks."
   ]
  },
  {
   "cell_type": "markdown",
   "metadata": {
    "collapsed": true,
    "jupyter": {
     "outputs_hidden": true
    }
   },
   "source": [
    "## 2. Mathematical models ##"
   ]
  },
  {
   "cell_type": "markdown",
   "metadata": {},
   "source": [
    "### 2.A. Model 1 : Quadratic Program (QP)\n",
    "The first model's objective is to minimize the total squared difference between the value of two sides of a trade. This is done across all 3,532 example trades in the dataset. The two sides of a trade are denoted as side \"A\" and side \"B\". The value of one side of a trade is defined as the sum of the values/weights of the assets on that side of the trade. The individual asset values/weights are denoted as $w_i$. Note that an asset is a player or rookie draft pick. The number of assets on side A of a trade ($\\text{n_assets_A}_i$) and the number of assets on side B of a trade ($\\text{n_assets_B}_i$) vary depending on the trade. However, trades in the dataset are constrained to a maximum of four assets per side. The assumption is made that no asset has a value of zero, so the weights have a lower-bound of one in order to prevent the model from bringing asset values to zero."
   ]
  },
  {
   "cell_type": "markdown",
   "metadata": {},
   "source": [
    "$$\n",
    "\\begin{aligned}\n",
    "\\underset{w \\in \\mathbb{R}^n}{\\text{minimize}}\\qquad& \\sum_{i=1}^{\\text{n_trades}}\\left(\\text{diff}_i\\right)^2 \\\\\n",
    "\\text{subject to:}\\qquad& \\text{diff}_i = \\text{ValueA}_i - \\text{ValueB}_i && \\forall i \\in \\{1,2,\\dots,\\text{n_trades}\\}\\\\\n",
    "& \\text{ValueA}_i = \\sum_{j=1}^{\\text{n_assets_A}_i} w_j && \\forall i \\in \\{1,2,\\dots,\\text{n_trades}\\} \\\\\n",
    "& \\text{ValueB}_i = \\sum_{j=1}^{\\text{n_assets_B}_i} w_j && \\forall i \\in \\{1,\n",
    "2,\\dots,\\text{n_trades}\\} \\\\\n",
    "& w_i \\geq 1.0 && \\forall i \\in \\{1,2,\\dots,\\text{n_assets}\\} \\\\\\\\\n",
    "& \\text{n_assets_A}_i, \\;\\text{n_assets_B}_i \\in \\{1,2,3,4\\} && \\forall i \\in \\{1,2,\\dots,\\text{n_trades}\\} \\\\\\\\\n",
    "& \\text{n_trades} = 3,532 \\text{ , } \\;\\;\\text{ n_assets} = 209\n",
    "\\end{aligned}\n",
    "$$"
   ]
  },
  {
   "cell_type": "markdown",
   "metadata": {},
   "source": [
    "### 2.B. Model 2 : Mixed-Integer Linear Program (MILP)\n",
    "The second model is using the asset values, or weights, generated from model 1 to output a counter offer closest in total value to a given an input offer. It seeks to minimize the magnitude of the difference in value between the input offer and generated counter offer. The asset weights/values are denoted as $w_i$. A binary value $y_i$ is used to denote if an asset was included in the input offer, and is a 209 element vector for each possible player and rookie draft pick. The variable $y_i$ is one if that corresponding player/pick is in the input offer, and zero otherwise. The variable $x_i$ is simular to $y_i$, except it is selected in order to minimize the objective. This 209 element vector, $x_i$, acts as an indicator variable to denote if an asset should be included in the counter offer. The model is solving for the optimal combination of players not in the input offer closest to the input offer value. The model is constrained to returning a combination of players/picks equal to the number of players/picks decided by the user with the \"n_assets_in_counter\" variable."
   ]
  },
  {
   "cell_type": "markdown",
   "metadata": {},
   "source": [
    "$$\n",
    "\\begin{aligned}\n",
    "\\underset{x}{\\text{minimize}}\\qquad& \\left|\\;\\text{InputValue} - \\text{CounterValue}\\;\\right| \\\\\n",
    "\\text{subject to:}\\qquad& \\text{InputValue} = \\sum_{i=1}^{n=209} w_iy_i\\\\\n",
    "& \\text{CounterValue} = \\sum_{i=1}^{n=209} w_ix_i \\\\\n",
    "& \\sum_{i=1}^{n=209} x_i = \\text{n_assets_in_counter} \\\\\n",
    "& x,y \\in \\{0,1\\} \\\\\n",
    "& \\text{n_assets_in_counter} \\in \\{1,2, \\dots, 209\\}\n",
    "\\end{aligned}\n",
    "$$"
   ]
  },
  {
   "cell_type": "markdown",
   "metadata": {},
   "source": [
    "## 3. Solution ##\n",
    "\n",
    "Load the necessary libraries:"
   ]
  },
  {
   "cell_type": "code",
   "execution_count": 10,
   "metadata": {},
   "outputs": [],
   "source": [
    "using JuMP, HiGHS, Ipopt  # optimization packages\n",
    "using CSV, DataFrames     # data reading/handling packages\n",
    "using Printf              # printing package"
   ]
  },
  {
   "cell_type": "markdown",
   "metadata": {},
   "source": [
    "There are two datasets, we will load them into this notebook below:"
   ]
  },
  {
   "cell_type": "code",
   "execution_count": 11,
   "metadata": {},
   "outputs": [],
   "source": [
    "players_and_picks = CSV.read(\"data/players_and_picks.csv\", DataFrame)\n",
    "trade_data = CSV.read(\"data/trade_data.csv\", DataFrame);"
   ]
  },
  {
   "cell_type": "markdown",
   "metadata": {},
   "source": [
    "The \"players_and_picks\" dataset lists all 209 players/picks and their corresponding index. We will use this index as an id for each player/pick."
   ]
  },
  {
   "cell_type": "code",
   "execution_count": 12,
   "metadata": {},
   "outputs": [
    {
     "data": {
      "text/html": [
       "<div><div style = \"float: left;\"><span>5×1 DataFrame</span></div><div style = \"clear: both;\"></div></div><div class = \"data-frame\" style = \"overflow-x: scroll;\"><table class = \"data-frame\" style = \"margin-bottom: 6px;\"><thead><tr class = \"header\"><th class = \"rowNumber\" style = \"font-weight: bold; text-align: right;\">Row</th><th style = \"text-align: left;\">Assets</th></tr><tr class = \"subheader headerLastRow\"><th class = \"rowNumber\" style = \"font-weight: bold; text-align: right;\"></th><th title = \"String31\" style = \"text-align: left;\">String31</th></tr></thead><tbody><tr><td class = \"rowNumber\" style = \"font-weight: bold; text-align: right;\">1</td><td style = \"text-align: left;\">Patrick Mahomes</td></tr><tr><td class = \"rowNumber\" style = \"font-weight: bold; text-align: right;\">2</td><td style = \"text-align: left;\">Josh Allen</td></tr><tr><td class = \"rowNumber\" style = \"font-weight: bold; text-align: right;\">3</td><td style = \"text-align: left;\">Justin Jefferson</td></tr><tr><td class = \"rowNumber\" style = \"font-weight: bold; text-align: right;\">4</td><td style = \"text-align: left;\">Jalen Hurts</td></tr><tr><td class = \"rowNumber\" style = \"font-weight: bold; text-align: right;\">5</td><td style = \"text-align: left;\">Ja&apos;Marr Chase</td></tr></tbody></table></div>"
      ],
      "text/latex": [
       "\\begin{tabular}{r|c}\n",
       "\t& Assets\\\\\n",
       "\t\\hline\n",
       "\t& String31\\\\\n",
       "\t\\hline\n",
       "\t1 & Patrick Mahomes \\\\\n",
       "\t2 & Josh Allen \\\\\n",
       "\t3 & Justin Jefferson \\\\\n",
       "\t4 & Jalen Hurts \\\\\n",
       "\t5 & Ja'Marr Chase \\\\\n",
       "\\end{tabular}\n"
      ],
      "text/plain": [
       "\u001b[1m5×1 DataFrame\u001b[0m\n",
       "\u001b[1m Row \u001b[0m│\u001b[1m Assets           \u001b[0m\n",
       "     │\u001b[90m String31         \u001b[0m\n",
       "─────┼──────────────────\n",
       "   1 │ Patrick Mahomes\n",
       "   2 │ Josh Allen\n",
       "   3 │ Justin Jefferson\n",
       "   4 │ Jalen Hurts\n",
       "   5 │ Ja'Marr Chase"
      ]
     },
     "execution_count": 12,
     "metadata": {},
     "output_type": "execute_result"
    }
   ],
   "source": [
    "first(players_and_picks,5)"
   ]
  },
  {
   "cell_type": "markdown",
   "metadata": {},
   "source": [
    "The \"trade_data\" dataset consists of the 3,532 trades, storing the two sides of the trade: side A and side B. The \"Side A Assets\" and \"Side B Assets\" columns list the player id's corresponding with their index in the \"players_and_picks\" dataset."
   ]
  },
  {
   "cell_type": "code",
   "execution_count": 13,
   "metadata": {},
   "outputs": [
    {
     "data": {
      "text/html": [
       "<div><div style = \"float: left;\"><span>5×5 DataFrame</span></div><div style = \"clear: both;\"></div></div><div class = \"data-frame\" style = \"overflow-x: scroll;\"><table class = \"data-frame\" style = \"margin-bottom: 6px;\"><thead><tr class = \"header\"><th class = \"rowNumber\" style = \"font-weight: bold; text-align: right;\">Row</th><th style = \"text-align: left;\">Date</th><th style = \"text-align: left;\">Side A List</th><th style = \"text-align: left;\">Side B List</th><th style = \"text-align: left;\">Side A Assets</th><th style = \"text-align: left;\">Side B Assets</th></tr><tr class = \"subheader headerLastRow\"><th class = \"rowNumber\" style = \"font-weight: bold; text-align: right;\"></th><th title = \"String7\" style = \"text-align: left;\">String7</th><th title = \"String\" style = \"text-align: left;\">String</th><th title = \"String\" style = \"text-align: left;\">String</th><th title = \"String31\" style = \"text-align: left;\">String31</th><th title = \"String31\" style = \"text-align: left;\">String31</th></tr></thead><tbody><tr><td class = \"rowNumber\" style = \"font-weight: bold; text-align: right;\">1</td><td style = \"text-align: left;\">27-Apr</td><td style = \"text-align: left;\">[&apos;Kyler Murray&apos;]</td><td style = \"text-align: left;\">[&apos;DK Metcalf&apos;]</td><td style = \"text-align: left;\">[35]</td><td style = \"text-align: left;\">[33]</td></tr><tr><td class = \"rowNumber\" style = \"font-weight: bold; text-align: right;\">2</td><td style = \"text-align: left;\">25-Apr</td><td style = \"text-align: left;\">[&apos;Travis Etienne&apos;, &apos;2024 Round 1&apos;, &apos;Gabe Davis&apos;]</td><td style = \"text-align: left;\">[&apos;Stefon Diggs&apos;, &quot;D&apos;Andre Swift&quot;, &apos;Aaron Rodgers&apos;]</td><td style = \"text-align: left;\">[23, 107, 204]</td><td style = \"text-align: left;\">[27, 66, 81]</td></tr><tr><td class = \"rowNumber\" style = \"font-weight: bold; text-align: right;\">3</td><td style = \"text-align: left;\">24-Apr</td><td style = \"text-align: left;\">[&apos;2023 Round 1&apos;, &apos;Davante Adams&apos;, &apos;Jeff Wilson&apos;]</td><td style = \"text-align: left;\">[&apos;2023 Round 2&apos;, &apos;Christian Watson&apos;, &apos;Brian Robinson&apos;]</td><td style = \"text-align: left;\">[37, 179, 200]</td><td style = \"text-align: left;\">[50, 113, 201]</td></tr><tr><td class = \"rowNumber\" style = \"font-weight: bold; text-align: right;\">4</td><td style = \"text-align: left;\">16-Apr</td><td style = \"text-align: left;\">[&apos;Justin Jefferson&apos;]</td><td style = \"text-align: left;\">[&apos;2023 Round 1&apos;, &apos;2023 Round 2&apos;, &apos;2024 Round 1&apos;, &apos;Pat Freiermuth&apos;]</td><td style = \"text-align: left;\">[3]</td><td style = \"text-align: left;\">[75, 200, 201, 204]</td></tr><tr><td class = \"rowNumber\" style = \"font-weight: bold; text-align: right;\">5</td><td style = \"text-align: left;\">24-Apr</td><td style = \"text-align: left;\">[&apos;2023 Round 3&apos;, &apos;Garrett Wilson&apos;, &apos;DJ Moore&apos;, &apos;2024 Round 3&apos;]</td><td style = \"text-align: left;\">[&apos;Justin Jefferson&apos;]</td><td style = \"text-align: left;\">[12, 46, 202, 206]</td><td style = \"text-align: left;\">[3]</td></tr></tbody></table></div>"
      ],
      "text/latex": [
       "\\begin{tabular}{r|cccc}\n",
       "\t& Date & Side A List & Side B List & \\\\\n",
       "\t\\hline\n",
       "\t& String7 & String & String & \\\\\n",
       "\t\\hline\n",
       "\t1 & 27-Apr & ['Kyler Murray'] & ['DK Metcalf'] & $\\dots$ \\\\\n",
       "\t2 & 25-Apr & ['Travis Etienne', '2024 Round 1', 'Gabe Davis'] & ['Stefon Diggs', \"D'Andre Swift\", 'Aaron Rodgers'] & $\\dots$ \\\\\n",
       "\t3 & 24-Apr & ['2023 Round 1', 'Davante Adams', 'Jeff Wilson'] & ['2023 Round 2', 'Christian Watson', 'Brian Robinson'] & $\\dots$ \\\\\n",
       "\t4 & 16-Apr & ['Justin Jefferson'] & ['2023 Round 1', '2023 Round 2', '2024 Round 1', 'Pat Freiermuth'] & $\\dots$ \\\\\n",
       "\t5 & 24-Apr & ['2023 Round 3', 'Garrett Wilson', 'DJ Moore', '2024 Round 3'] & ['Justin Jefferson'] & $\\dots$ \\\\\n",
       "\\end{tabular}\n"
      ],
      "text/plain": [
       "\u001b[1m5×5 DataFrame\u001b[0m\n",
       "\u001b[1m Row \u001b[0m│\u001b[1m Date    \u001b[0m\u001b[1m Side A List                       \u001b[0m\u001b[1m Side B List                \u001b[0m ⋯\n",
       "     │\u001b[90m String7 \u001b[0m\u001b[90m String                            \u001b[0m\u001b[90m String                     \u001b[0m ⋯\n",
       "─────┼──────────────────────────────────────────────────────────────────────────\n",
       "   1 │ 27-Apr   ['Kyler Murray']                   ['DK Metcalf']              ⋯\n",
       "   2 │ 25-Apr   ['Travis Etienne', '2024 Round 1…  ['Stefon Diggs', \"D'Andre S\n",
       "   3 │ 24-Apr   ['2023 Round 1', 'Davante Adams'…  ['2023 Round 2', 'Christian\n",
       "   4 │ 16-Apr   ['Justin Jefferson']               ['2023 Round 1', '2023 Roun\n",
       "   5 │ 24-Apr   ['2023 Round 3', 'Garrett Wilson…  ['Justin Jefferson']        ⋯\n",
       "\u001b[36m                                                               3 columns omitted\u001b[0m"
      ]
     },
     "execution_count": 13,
     "metadata": {},
     "output_type": "execute_result"
    }
   ],
   "source": [
    "first(trade_data,5)"
   ]
  },
  {
   "cell_type": "markdown",
   "metadata": {},
   "source": [
    "### 3.A. Model 1 Implementation"
   ]
  },
  {
   "cell_type": "markdown",
   "metadata": {},
   "source": [
    "We will use the trades from the \"players_and_picks\" dataset to generate weight values associated with each player. \n",
    " The code for the model is shown below:"
   ]
  },
  {
   "cell_type": "code",
   "execution_count": 14,
   "metadata": {},
   "outputs": [],
   "source": [
    "n_assets = size(players_and_picks,1)  # number of players/picks (209)\n",
    "n_trades = size(trade_data,1)         # nubmer of trades (3,532)\n",
    "\n",
    "m = Model(Ipopt.Optimizer) \n",
    "@variable(m, asset_weights[1:n_assets]) # weight value of each player/pick (what we are solving for)\n",
    "@variable(m, difs[1:n_trades]) # variable storing abs value of difference between side_A & side_B of ith trade\n",
    "@variable(m, side_A[1:n_trades])\n",
    "@variable(m, side_B[1:n_trades])\n",
    "\n",
    "# Assign assets in Side A\n",
    "for i in 1:n_trades\n",
    "    assets = parse.(Int, split(trade_data[i,4][2:end-1], \",\")) # parse the string containing the asset ids/indices\n",
    "    n_assets_A = length(assets)\n",
    "    @constraint(m, side_A[i] == sum(asset_weights[assets[j]] for j=1:n_assets_A)) # side A value in ith trade\n",
    "end\n",
    "\n",
    "# Assign assets in Side B\n",
    "for i in 1:n_trades\n",
    "    assets = parse.(Int, split(trade_data[i,5][2:end-1], \",\")) # parse the string containing the asset ids/indices\n",
    "    n_assets_B = length(assets)\n",
    "    @constraint(m, side_B[i] == sum(asset_weights[assets[j]] for j=1:n_assets_B)) # side B value in ith trade\n",
    "end\n",
    "\n",
    "@constraint(m, [i=1:n_assets], asset_weights[i] >= 1.0) # set lower bound on asset weights\n",
    "\n",
    "# Take the difference in value between the two sides of the trade\n",
    "@constraint(m, [i=1:n_trades], difs[i] == side_A[i] - side_B[i]) \n",
    "\n",
    "# Minimize the sum of the differences squared\n",
    "@objective(m, Min, sum(difs.^2))\n",
    "set_silent(m)\n",
    "optimize!(m)\n",
    "\n",
    "# Store the generated asset (player/pick) weight values\n",
    "asset_weights = value.(asset_weights);"
   ]
  },
  {
   "cell_type": "markdown",
   "metadata": {},
   "source": [
    "A preview of the assigned weights generated from this model can be seen with the code snippet below, although I will show all of the assigned values in the results section."
   ]
  },
  {
   "cell_type": "code",
   "execution_count": 15,
   "metadata": {},
   "outputs": [
    {
     "name": "stdout",
     "output_type": "stream",
     "text": [
      "1 Patrick Mahomes: 3.40373\n",
      "2 Josh Allen: 3.31371\n",
      "3 Justin Jefferson: 2.94678\n",
      "4 Jalen Hurts: 3.06686\n",
      "5 Ja'Marr Chase: 2.63691\n",
      "6 Joe Burrow: 2.98827\n",
      "7 Justin Herbert: 2.42373\n",
      "8 Lamar Jackson: 2.14667\n",
      "9 CeeDee Lamb: 2.12642\n",
      "10 Trevor Lawrence: 2.50231\n"
     ]
    }
   ],
   "source": [
    "for i in 1:10\n",
    "    @printf(\"%.0f %s: %.5f\\n\",i,players_and_picks[i,1],asset_weights[i])\n",
    "end"
   ]
  },
  {
   "cell_type": "markdown",
   "metadata": {},
   "source": [
    "### 3.B. Model 2 Implementation"
   ]
  },
  {
   "cell_type": "markdown",
   "metadata": {},
   "source": [
    "The below funciton uses an implementation of model 2 to generate the closest counter trade offer in terms of value to the users input offer by solving a mixed-integer linear program. The input variable \"asset_list\" is a list of players/picks in the input offer, and the input variable \"n_assets_in_counter\" is the desired number of assets the counter offer should consist of."
   ]
  },
  {
   "cell_type": "code",
   "execution_count": 16,
   "metadata": {},
   "outputs": [],
   "source": [
    "function generate_counter_offer(asset_list, n_assets_in_counter)\n",
    "    # Convert the players_and_picks DataFrame object to a List\n",
    "    all_asset_list = collect(players_and_picks.Assets)\n",
    "    \n",
    "    # Convert names in input asset list to their corresponding indice ids in the \"players_and_picks\" dataset\n",
    "    input_indices = Int[]\n",
    "    n_assets = size(players_and_picks,1)\n",
    "    for asset in asset_list\n",
    "        if asset in all_asset_list\n",
    "            push!(input_indices, findfirst(x -> x == asset, all_asset_list))\n",
    "        else\n",
    "            @printf(\"Error: \\\"%s\\\" is not in the \\\"players_and_picks\\\" dataset.\",asset)\n",
    "            return\n",
    "        end\n",
    "    end\n",
    "    \n",
    "    ####################### Model 2: Solving for optimal counter-offer ######################################\n",
    "    n_input = size(input_indices,1) # store the number of assets in input offer\n",
    "    \n",
    "    m = Model(HiGHS.Optimizer)\n",
    "    @variable(m, x[1:n_assets], Bin) # indicator variable: 1 if asset is in counter-offer, 0 otherwise\n",
    "    @variable(m, difference)\n",
    "    \n",
    "    @constraint(m, [i=1:n_input], x[input_indices[i]] == 0) # don't allow model to return input assests\n",
    "    @constraint(m, sum(x) == n_assets_in_counter) # force model to return counter with n_assets_in_counter assets\n",
    "   \n",
    "    # Calculate the total value of the input and counter-offer\n",
    "    @expression(m, input_value, sum((asset_weights[input_indices[i]]) for i=1:n_input))\n",
    "    @expression(m, output_value, sum(asset_weights[i]*x[i] for i=1:n_assets))\n",
    "    \n",
    "    # Take the absolute vlaue of input value and counter-offer value\n",
    "    @constraint(m, difference >= input_value -  output_value)\n",
    "    @constraint(m, difference >=  output_value - input_value)\n",
    "    \n",
    "    # Minimize the difference between the input value assets and the counter-offer assets value\n",
    "    @objective(m, Min, difference)\n",
    "    set_silent(m)\n",
    "    optimize!(m)\n",
    "    indicator_vars = value.(x)\n",
    "    #########################################################################################################\n",
    "    \n",
    "    # Print Input Offer\n",
    "    input_sum = 0\n",
    "    for (i,val) in enumerate(asset_list)\n",
    "        input_sum += asset_weights[input_indices[i]]\n",
    "    end\n",
    "    @printf(\"\\033[1mYour Offer Total Value: %.5f\\033[0m\\n\",input_sum)\n",
    "    for (i,val) in enumerate(asset_list)\n",
    "        @printf(\"\\t%s - (%.5f)\\n\",all_asset_list[input_indices[i]],asset_weights[input_indices[i]])\n",
    "    end\n",
    "    \n",
    "    # Print Generated Counter Offer\n",
    "    counter_sum = 0\n",
    "    for (i,val) in enumerate(indicator_vars)\n",
    "        if (0.99 < val) & (val < 1.01)\n",
    "            counter_sum += asset_weights[i]\n",
    "        end\n",
    "    end\n",
    "    @printf(\"\\033[1m\\nCounter Offer Total Value:  %.5f\\033[0m\\n\",counter_sum)\n",
    "    for (i,val) in enumerate(indicator_vars)\n",
    "        if (0.99 < val) & (val < 1.01)\n",
    "            @printf(\"\\t%s - (%.5f)\\n\",all_asset_list[i],asset_weights[i])\n",
    "        end\n",
    "    end\n",
    "end;"
   ]
  },
  {
   "cell_type": "markdown",
   "metadata": {
    "collapsed": true,
    "jupyter": {
     "outputs_hidden": true
    }
   },
   "source": [
    "## 4. Results and discussion ##\n",
    "\n",
    "\n"
   ]
  },
  {
   "cell_type": "markdown",
   "metadata": {},
   "source": [
    "### 4.A. Model 2 Results"
   ]
  },
  {
   "cell_type": "markdown",
   "metadata": {},
   "source": [
    "A counter offer can be generated by updating the inputs below."
   ]
  },
  {
   "cell_type": "code",
   "execution_count": 17,
   "metadata": {},
   "outputs": [
    {
     "name": "stdout",
     "output_type": "stream",
     "text": [
      "\u001b[1mYour Offer Total Value: 6.75547\u001b[0m\n",
      "\tPatrick Mahomes - (3.40373)\n",
      "\tGarrett Wilson - (1.86111)\n",
      "\tStefon Diggs - (1.49063)\n",
      "\u001b[1m\n",
      "Counter Offer Total Value:  6.75547\u001b[0m\n",
      "\tTrevor Lawrence - (2.50231)\n",
      "\tTravis Etienne - (1.39457)\n",
      "\tDak Prescott - (1.78358)\n",
      "\tDJ Moore - (1.07502)\n"
     ]
    }
   ],
   "source": [
    "########### Input Variables: Feel Free to Update These ################\n",
    "asset_list = [\"Patrick Mahomes\",\"Garrett Wilson\",\"Stefon Diggs\"]\n",
    "n_assets_in_counter = 4\n",
    "#######################################################################\n",
    "\n",
    "# Run Model 2:\n",
    "generate_counter_offer(asset_list, n_assets_in_counter)"
   ]
  },
  {
   "cell_type": "markdown",
   "metadata": {},
   "source": [
    "### 4.B. Model 1 Results"
   ]
  },
  {
   "cell_type": "markdown",
   "metadata": {},
   "source": [
    "In the tables below are the weight values generated corresponding to each player/pick. One major limitation of this model is that many of the values are equal to 1, the minimum possible value. This is because the model is trying to minimize the difference in the values of each side of a trade, and consequently minimizes the values themselves."
   ]
  },
  {
   "cell_type": "markdown",
   "metadata": {},
   "source": [
    "![Model 1 Results](https://i.imgur.com/VFEwCXc.png)"
   ]
  },
  {
   "cell_type": "markdown",
   "metadata": {},
   "source": [
    "I also implemented a web app which allows you to select the pieces of a dynasty trade and analyzes the trade.\n",
    "\n",
    "The app can be found at [dynasty-trade-analyzer.com](https://dynasty-trade-analyzer.herokuapp.com/).\n",
    "\n",
    "Below is a screenshot of the web app."
   ]
  },
  {
   "cell_type": "markdown",
   "metadata": {},
   "source": [
    "![Web App](https://i.imgur.com/yg5doyv.jpeg)"
   ]
  },
  {
   "cell_type": "markdown",
   "metadata": {
    "collapsed": true,
    "jupyter": {
     "outputs_hidden": true
    }
   },
   "source": [
    "## 5. Conclusion ##"
   ]
  },
  {
   "cell_type": "markdown",
   "metadata": {},
   "source": [
    "In this project, I generated dynasty fantasy football trade values corresponding to 209 different players and rookie draft picks using a quadratic program. Furthermore, I used a mixed-integer linear program to output potential counter offers to a trade input.\n",
    "\n",
    "One of the limitations of model 1, is that it minimizes the differences between the total value of two sides of a trade. This results in the model making the asset values as small as possible, which led to over half of the values being one. In the future, one could reformulate the problem to generate a unique value/weight for every player/pick. This could be done by adding a constraints where the weight of the $i^{th}$ element must be greater than or equal to the $(i+1)^{th}$ element plus some small number.\n",
    "\n",
    "\\begin{equation*}\n",
    "w_i \\geq w_{i+1} + b \\;\\; \\text{ where b is some small value}\n",
    "\\end{equation*}\n",
    "\n",
    "However, weight value corresponding to an asset would need to be dynamic for this to work."
   ]
  }
 ],
 "metadata": {
  "kernelspec": {
   "display_name": "Julia 1.8.5",
   "language": "julia",
   "name": "julia-1.8"
  },
  "language_info": {
   "file_extension": ".jl",
   "mimetype": "application/julia",
   "name": "julia",
   "version": "1.8.5"
  }
 },
 "nbformat": 4,
 "nbformat_minor": 4
}
